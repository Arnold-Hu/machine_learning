{
 "metadata": {
  "name": ""
 },
 "nbformat": 3,
 "nbformat_minor": 0,
 "worksheets": [
  {
   "cells": [
    {
     "cell_type": "code",
     "collapsed": false,
     "input": [
      "%pylab inline"
     ],
     "language": "python",
     "metadata": {},
     "outputs": [
      {
       "output_type": "stream",
       "stream": "stdout",
       "text": [
        "Populating the interactive namespace from numpy and matplotlib\n"
       ]
      }
     ],
     "prompt_number": 1
    },
    {
     "cell_type": "code",
     "collapsed": false,
     "input": [
      "import numpy as np"
     ],
     "language": "python",
     "metadata": {},
     "outputs": [],
     "prompt_number": 2
    },
    {
     "cell_type": "code",
     "collapsed": false,
     "input": [
      "import matplotlib.pyplot as plt"
     ],
     "language": "python",
     "metadata": {},
     "outputs": [],
     "prompt_number": 3
    },
    {
     "cell_type": "code",
     "collapsed": false,
     "input": [
      "l1 = np.array([1,2])"
     ],
     "language": "python",
     "metadata": {},
     "outputs": [],
     "prompt_number": 4
    },
    {
     "cell_type": "code",
     "collapsed": false,
     "input": [
      "l2 = np.array([4,4])"
     ],
     "language": "python",
     "metadata": {},
     "outputs": [],
     "prompt_number": 5
    },
    {
     "cell_type": "code",
     "collapsed": false,
     "input": [
      "l1"
     ],
     "language": "python",
     "metadata": {},
     "outputs": [
      {
       "metadata": {},
       "output_type": "pyout",
       "prompt_number": 6,
       "text": [
        "array([1, 2])"
       ]
      }
     ],
     "prompt_number": 6
    },
    {
     "cell_type": "code",
     "collapsed": false,
     "input": [
      "l2"
     ],
     "language": "python",
     "metadata": {},
     "outputs": [
      {
       "metadata": {},
       "output_type": "pyout",
       "prompt_number": 7,
       "text": [
        "array([4, 4])"
       ]
      }
     ],
     "prompt_number": 7
    },
    {
     "cell_type": "code",
     "collapsed": false,
     "input": [
      "l1 = np.concatenate(l1, l2)"
     ],
     "language": "python",
     "metadata": {},
     "outputs": [
      {
       "ename": "TypeError",
       "evalue": "only length-1 arrays can be converted to Python scalars",
       "output_type": "pyerr",
       "traceback": [
        "\u001b[0;31m---------------------------------------------------------------------------\u001b[0m\n\u001b[0;31mTypeError\u001b[0m                                 Traceback (most recent call last)",
        "\u001b[0;32m<ipython-input-8-21f03428de9d>\u001b[0m in \u001b[0;36m<module>\u001b[0;34m()\u001b[0m\n\u001b[0;32m----> 1\u001b[0;31m \u001b[0ml1\u001b[0m \u001b[0;34m=\u001b[0m \u001b[0mnp\u001b[0m\u001b[0;34m.\u001b[0m\u001b[0mconcatenate\u001b[0m\u001b[0;34m(\u001b[0m\u001b[0ml1\u001b[0m\u001b[0;34m,\u001b[0m \u001b[0ml2\u001b[0m\u001b[0;34m)\u001b[0m\u001b[0;34m\u001b[0m\u001b[0m\n\u001b[0m",
        "\u001b[0;31mTypeError\u001b[0m: only length-1 arrays can be converted to Python scalars"
       ]
      }
     ],
     "prompt_number": 8
    },
    {
     "cell_type": "code",
     "collapsed": false,
     "input": [
      "l1 = np.array([[1,2]])"
     ],
     "language": "python",
     "metadata": {},
     "outputs": [],
     "prompt_number": 9
    },
    {
     "cell_type": "code",
     "collapsed": false,
     "input": [
      "l1"
     ],
     "language": "python",
     "metadata": {},
     "outputs": [
      {
       "metadata": {},
       "output_type": "pyout",
       "prompt_number": 10,
       "text": [
        "array([[1, 2]])"
       ]
      }
     ],
     "prompt_number": 10
    },
    {
     "cell_type": "code",
     "collapsed": false,
     "input": [
      "l2=np.array([[3,4]])"
     ],
     "language": "python",
     "metadata": {},
     "outputs": [],
     "prompt_number": 11
    },
    {
     "cell_type": "code",
     "collapsed": false,
     "input": [
      "np.concatenate((l1, l2))"
     ],
     "language": "python",
     "metadata": {},
     "outputs": [
      {
       "metadata": {},
       "output_type": "pyout",
       "prompt_number": 14,
       "text": [
        "array([[1, 2],\n",
        "       [3, 4]])"
       ]
      }
     ],
     "prompt_number": 14
    },
    {
     "cell_type": "code",
     "collapsed": false,
     "input": [
      "import random\n",
      "import numpy as np\n",
      "import copy\n",
      "import matplotlib.pyplot as plt\n",
      "import math\n",
      "from mpl_toolkits import mplot3d"
     ],
     "language": "python",
     "metadata": {},
     "outputs": [],
     "prompt_number": 15
    },
    {
     "cell_type": "code",
     "collapsed": false,
     "input": [
      "def j_theta(X, Y, x, y):\n",
      "    result = copy.deepcopy(X)\n",
      "    for i in range(len(X)):\n",
      "        for j in range(len(X[0])):\n",
      "            s = 0\n",
      "            for p in range(y.size):\n",
      "                s += (h(np.array([X[i][j], Y[i][j]]), x[:, p]) - y[:, p])[0]**2\n",
      "            result[i][j] = s / (2 * y.size)\n",
      "    return result\n",
      "\n",
      "\n",
      "def partial_j(theta, x, y, index):\n",
      "    tmp = copy.copy(theta)\n",
      "\n",
      "    tmp = h(tmp, x) - y\n",
      "    result = tmp * x[index]\n",
      "    return result\n",
      "\n",
      "\n",
      "def batch_GD_step(theta, alpha, x, y):\n",
      "    new_theta = copy.deepcopy(theta)\n",
      "    # for index, ele in enumerate(theta):\n",
      "    #     theta[index] = ele - alpha*partial_j(theta, x, y, index)\n",
      "    for i in range(theta.size):\n",
      "        s = 0\n",
      "        for j in range(y.size):\n",
      "            s += partial_j(theta, x[:, j], y[:, j], i)[0]\n",
      "            # tmp = (h(theta, x_y[0]) - x_y[1]) * x_y[index]\n",
      "            # s += tmp\n",
      "        s = s / x.size\n",
      "        new_theta[0, i] = theta[0, i] - alpha[i] * s\n",
      "\n",
      "    return new_theta\n",
      "\n",
      "\n",
      "def random_GD_step(theta, alpha, x, y, index):\n",
      "    new_theta = copy.deepcopy(theta)\n",
      "    for i in range(theta.size):\n",
      "        tmp = partial_j(theta, x[:, index], y[:, index], i)[0]\n",
      "        new_theta[0, i] = theta[0, i] - alpha[i] * tmp\n",
      "    return new_theta\n",
      "\n",
      "\n",
      "def h(theta, x):\n",
      "    return np.dot(theta, np.transpose(x))\n",
      "\n",
      "\n",
      "def stop(x, y, theta):\n",
      "\n",
      "\n",
      "\n",
      "\n",
      "\n",
      "# def produce_random_point(limit_size=100):\n",
      "#     x = random.random()*10\n",
      "#     # y = math.sin(x/10)*100 + random.random()*200\n",
      "#     y = ture_h(x) + (random.random() - 0.5)*5\n",
      "#     return [x,y]\n",
      "\n",
      "\n",
      "def produce_random_x(length):\n",
      "    return np.random.rand(1, length)\n",
      "\n",
      "\n",
      "def pruduce_y_with_noise(x, noise, h):\n",
      "    y = h(x) + noise\n",
      "    return y\n",
      "\n",
      "\n",
      "def ture_h(x):\n",
      "    return 2 * x + 10\n",
      "\n",
      "\n",
      "def h_plot_2d(theta, x):\n",
      "    return theta[0, 0] + theta[0, 1] * x\n",
      "\n",
      "\n",
      "def random_color(k):\n",
      "    # generate a random color code like '#225c6f'\n",
      "    color_rgb_element = ['0','1','2','3','4','5','6','7','8','9','a','b','c','d','e','f']\n",
      "    color = []\n",
      "    for i in range(k):\n",
      "        temp = '#'\n",
      "        for j in range(6):\n",
      "            temp = temp + color_rgb_element[random.randint(0,15)]\n",
      "        color.append(temp)\n",
      "    return color\n"
     ],
     "language": "python",
     "metadata": {},
     "outputs": [
      {
       "ename": "IndentationError",
       "evalue": "expected an indented block (<ipython-input-16-16869df818a6>, line 61)",
       "output_type": "pyerr",
       "traceback": [
        "\u001b[0;36m  File \u001b[0;32m\"<ipython-input-16-16869df818a6>\"\u001b[0;36m, line \u001b[0;32m61\u001b[0m\n\u001b[0;31m    def produce_random_x(length):\u001b[0m\n\u001b[0m      ^\u001b[0m\n\u001b[0;31mIndentationError\u001b[0m\u001b[0;31m:\u001b[0m expected an indented block\n"
       ]
      }
     ],
     "prompt_number": 16
    },
    {
     "cell_type": "code",
     "collapsed": false,
     "input": [
      "def j_theta(X, Y, x, y):\n",
      "    result = copy.deepcopy(X)\n",
      "    for i in range(len(X)):\n",
      "        for j in range(len(X[0])):\n",
      "            s = 0\n",
      "            for p in range(y.size):\n",
      "                s += (h(np.array([X[i][j], Y[i][j]]), x[:, p]) - y[:, p])[0]**2\n",
      "            result[i][j] = s / (2 * y.size)\n",
      "    return result\n",
      "\n",
      "\n",
      "def partial_j(theta, x, y, index):\n",
      "    tmp = copy.copy(theta)\n",
      "\n",
      "    tmp = h(tmp, x) - y\n",
      "    result = tmp * x[index]\n",
      "    return result\n",
      "\n",
      "\n",
      "def batch_GD_step(theta, alpha, x, y):\n",
      "    new_theta = copy.deepcopy(theta)\n",
      "    # for index, ele in enumerate(theta):\n",
      "    #     theta[index] = ele - alpha*partial_j(theta, x, y, index)\n",
      "    for i in range(theta.size):\n",
      "        s = 0\n",
      "        for j in range(y.size):\n",
      "            s += partial_j(theta, x[:, j], y[:, j], i)[0]\n",
      "            # tmp = (h(theta, x_y[0]) - x_y[1]) * x_y[index]\n",
      "            # s += tmp\n",
      "        s = s / x.size\n",
      "        new_theta[0, i] = theta[0, i] - alpha[i] * s\n",
      "\n",
      "    return new_theta\n",
      "\n",
      "\n",
      "def random_GD_step(theta, alpha, x, y, index):\n",
      "    new_theta = copy.deepcopy(theta)\n",
      "    for i in range(theta.size):\n",
      "        tmp = partial_j(theta, x[:, index], y[:, index], i)[0]\n",
      "        new_theta[0, i] = theta[0, i] - alpha[i] * tmp\n",
      "    return new_theta\n",
      "\n",
      "\n",
      "def h(theta, x):\n",
      "    return np.dot(theta, np.transpose(x))\n",
      "\n",
      "\n",
      "\n",
      "\n",
      "\n",
      "\n",
      "# def produce_random_point(limit_size=100):\n",
      "#     x = random.random()*10\n",
      "#     # y = math.sin(x/10)*100 + random.random()*200\n",
      "#     y = ture_h(x) + (random.random() - 0.5)*5\n",
      "#     return [x,y]\n",
      "\n",
      "\n",
      "def produce_random_x(length):\n",
      "    return np.random.rand(1, length)\n",
      "\n",
      "\n",
      "def pruduce_y_with_noise(x, noise, h):\n",
      "    y = h(x) + noise\n",
      "    return y\n",
      "\n",
      "\n",
      "def ture_h(x):\n",
      "    return 2 * x + 10\n",
      "\n",
      "\n",
      "def h_plot_2d(theta, x):\n",
      "    return theta[0, 0] + theta[0, 1] * x\n",
      "\n",
      "\n",
      "def random_color(k):\n",
      "    # generate a random color code like '#225c6f'\n",
      "    color_rgb_element = ['0','1','2','3','4','5','6','7','8','9','a','b','c','d','e','f']\n",
      "    color = []\n",
      "    for i in range(k):\n",
      "        temp = '#'\n",
      "        for j in range(6):\n",
      "            temp = temp + color_rgb_element[random.randint(0,15)]\n",
      "        color.append(temp)\n",
      "    return color\n"
     ],
     "language": "python",
     "metadata": {},
     "outputs": [],
     "prompt_number": 17
    },
    {
     "cell_type": "code",
     "collapsed": false,
     "input": [
      " x_dots = produce_random_x(length)\n",
      "\n",
      "noise = np.random.rand(1, length)\n",
      "y_dots = pruduce_y_with_noise(x_dots, noise, ture_h)\n",
      "\n",
      "b_x_dots = (x_dots - np.mean(x_dots)) / (np.max(x_dots) - np.min(x_dots))\n",
      "b_y_dots = (y_dots - np.mean(y_dots)) / (np.max(y_dots) - np.min(y_dots))\n",
      "\n",
      "x_dots_ex = np.concatenate((np.ones([1,length]),b_x_dots))"
     ],
     "language": "python",
     "metadata": {},
     "outputs": [],
     "prompt_number": 20
    },
    {
     "cell_type": "code",
     "collapsed": false,
     "input": [
      "length = 3"
     ],
     "language": "python",
     "metadata": {},
     "outputs": [],
     "prompt_number": 19
    },
    {
     "cell_type": "code",
     "collapsed": false,
     "input": [
      "theta_batch = np.ones([1,2])"
     ],
     "language": "python",
     "metadata": {},
     "outputs": [],
     "prompt_number": 21
    },
    {
     "cell_type": "code",
     "collapsed": false,
     "input": [
      "x_dots_ex"
     ],
     "language": "python",
     "metadata": {},
     "outputs": [
      {
       "metadata": {},
       "output_type": "pyout",
       "prompt_number": 22,
       "text": [
        "array([[ 1.        ,  1.        ,  1.        ],\n",
        "       [ 0.02382755,  0.48808623, -0.51191377]])"
       ]
      }
     ],
     "prompt_number": 22
    },
    {
     "cell_type": "code",
     "collapsed": false,
     "input": [
      "y_dots"
     ],
     "language": "python",
     "metadata": {},
     "outputs": [
      {
       "metadata": {},
       "output_type": "pyout",
       "prompt_number": 23,
       "text": [
        "array([[ 10.57376305,  10.62559801,  10.83038173]])"
       ]
      }
     ],
     "prompt_number": 23
    },
    {
     "cell_type": "code",
     "collapsed": false,
     "input": [
      "theta_batch"
     ],
     "language": "python",
     "metadata": {},
     "outputs": [
      {
       "metadata": {},
       "output_type": "pyout",
       "prompt_number": 24,
       "text": [
        "array([[ 1.,  1.]])"
       ]
      }
     ],
     "prompt_number": 24
    },
    {
     "cell_type": "code",
     "collapsed": false,
     "input": [
      "left = np.dot(theta_batch, x_dots_ex)"
     ],
     "language": "python",
     "metadata": {},
     "outputs": [],
     "prompt_number": 26
    },
    {
     "cell_type": "code",
     "collapsed": false,
     "input": [
      "left"
     ],
     "language": "python",
     "metadata": {},
     "outputs": [
      {
       "metadata": {},
       "output_type": "pyout",
       "prompt_number": 27,
       "text": [
        "array([[ 1.02382755,  1.48808623,  0.48808623]])"
       ]
      }
     ],
     "prompt_number": 27
    },
    {
     "cell_type": "code",
     "collapsed": false,
     "input": [
      "result = left - y_dots"
     ],
     "language": "python",
     "metadata": {},
     "outputs": [],
     "prompt_number": 28
    },
    {
     "cell_type": "code",
     "collapsed": false,
     "input": [
      "result"
     ],
     "language": "python",
     "metadata": {},
     "outputs": [
      {
       "metadata": {},
       "output_type": "pyout",
       "prompt_number": 29,
       "text": [
        "array([[ -9.5499355 ,  -9.13751178, -10.34229551]])"
       ]
      }
     ],
     "prompt_number": 29
    },
    {
     "cell_type": "code",
     "collapsed": false,
     "input": [
      "r = result ** 2"
     ],
     "language": "python",
     "metadata": {},
     "outputs": [],
     "prompt_number": 30
    },
    {
     "cell_type": "code",
     "collapsed": false,
     "input": [
      "r"
     ],
     "language": "python",
     "metadata": {},
     "outputs": [
      {
       "metadata": {},
       "output_type": "pyout",
       "prompt_number": 31,
       "text": [
        "array([[  91.20126813,   83.49412154,  106.96307632]])"
       ]
      }
     ],
     "prompt_number": 31
    },
    {
     "cell_type": "code",
     "collapsed": false,
     "input": [],
     "language": "python",
     "metadata": {},
     "outputs": []
    }
   ],
   "metadata": {}
  }
 ]
}